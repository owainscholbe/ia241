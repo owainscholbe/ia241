{
 "cells": [
  {
   "cell_type": "markdown",
   "metadata": {},
   "source": [
    "# Lab 6"
   ]
  },
  {
   "cell_type": "markdown",
   "metadata": {},
   "source": [
    "### 1)"
   ]
  },
  {
   "cell_type": "code",
   "execution_count": 77,
   "metadata": {},
   "outputs": [],
   "source": [
    "from urllib import request\n",
    "import json\n",
    "from pprint import pprint\n",
    "import xlwt\n",
    "import xlrd\n",
    "from xlutils.copy import copy"
   ]
  },
  {
   "cell_type": "markdown",
   "metadata": {},
   "source": [
    "#### 2)"
   ]
  },
  {
   "cell_type": "code",
   "execution_count": 78,
   "metadata": {},
   "outputs": [],
   "source": [
    "census_api_key = '2d1fd49e24182157dbdcdcafab3af89819dbcbd0' #get your key from https://api.census.gov/data/key_signup.html\n"
   ]
  },
  {
   "cell_type": "code",
   "execution_count": 79,
   "metadata": {},
   "outputs": [],
   "source": [
    "url_str = 'https://api.census.gov/data/2016/acs/acs5?get=B01001_001E,B01001_002E,NAME&for=county:*&in=state:51&key='+census_api_key # create the url of your census data\n"
   ]
  },
  {
   "cell_type": "code",
   "execution_count": 80,
   "metadata": {},
   "outputs": [],
   "source": [
    "response = request.urlopen(url_str) # read the response into computer\n",
    "\n",
    "html_str = response.read().decode(\"utf-8\") # convert the response into string\n"
   ]
  },
  {
   "cell_type": "code",
   "execution_count": 81,
   "metadata": {},
   "outputs": [],
   "source": [
    "#pprint(html_str)"
   ]
  },
  {
   "cell_type": "markdown",
   "metadata": {},
   "source": [
    "#### 3)"
   ]
  },
  {
   "cell_type": "code",
   "execution_count": 82,
   "metadata": {},
   "outputs": [],
   "source": [
    "book = xlwt.Workbook()\n",
    "sheet = book.add_sheet('va_pop')\n",
    "i = 0\n",
    "\n",
    "if html_str: \n",
    "    json_data = json.loads(html_str)\n",
    "    for record in json_data:\n",
    "        total_pop, male_pop, name, state, county_num = record\n",
    "        sheet.write(i, 0, total_pop)\n",
    "        sheet.write(i, 1, male_pop)\n",
    "        i += 1\n",
    "        \n",
    "book.save('census.xls')"
   ]
  },
  {
   "cell_type": "markdown",
   "metadata": {},
   "source": [
    "#### 4)"
   ]
  },
  {
   "cell_type": "code",
   "execution_count": 83,
   "metadata": {},
   "outputs": [
    {
     "name": "stdout",
     "output_type": "stream",
     "text": [
      "B01001_001E B01001_002E\n",
      "33060 16125\n",
      "104287 49946\n",
      "15919 7788\n",
      "12793 6642\n",
      "31999 15346\n",
      "15314 7424\n",
      "226092 112644\n",
      "74330 37572\n",
      "4558 2465\n"
     ]
    }
   ],
   "source": [
    "book = xlrd.open_workbook('census.xls')\n",
    "sheet = book.sheet_by_name('va_pop')\n",
    "\n",
    "for i in range(10):\n",
    "    row = sheet.row_values(i)\n",
    "    total_pop, male_pop = row\n",
    "    print(total_pop, male_pop)\n"
   ]
  },
  {
   "cell_type": "markdown",
   "metadata": {},
   "source": [
    "#### 5)"
   ]
  },
  {
   "cell_type": "code",
   "execution_count": 84,
   "metadata": {},
   "outputs": [],
   "source": [
    "book = xlrd.open_workbook('census.xls')\n",
    "sheet = book.sheet_by_name('va_pop')\n",
    "num_record = sheet.nrows\n",
    "write_book = copy(book)\n",
    "write_sheet = write_book.get_sheet(0)\n",
    "\n",
    "for i in range(num_record):\n",
    "    row = sheet.row_values(i)\n",
    "    B01001_001E, B01001_002E = row\n",
    "\n",
    "    if i == 0:\n",
    "        write_sheet.write(i, 2, 'Ratio')\n",
    "\n",
    "    else: \n",
    "        write_sheet.write(i, 2, int(B01001_002E)/int(B01001_001E))\n",
    "        \n",
    "write_book.save('census.xls')"
   ]
  },
  {
   "cell_type": "markdown",
   "metadata": {},
   "source": [
    "#### 6)"
   ]
  },
  {
   "cell_type": "code",
   "execution_count": 85,
   "metadata": {},
   "outputs": [
    {
     "name": "stdout",
     "output_type": "stream",
     "text": [
      "Ratio\n",
      "0.48774954627949185\n",
      "0.4789283419793455\n",
      "0.48922671022049125\n",
      "0.5191901821308528\n",
      "0.4795774867964624\n",
      "0.48478516390231163\n",
      "0.4982219627408312\n",
      "0.5054755818646576\n",
      "0.5408073716542343\n"
     ]
    }
   ],
   "source": [
    "book = xlrd.open_workbook('census.xls')\n",
    "sheet = book.sheet_by_name('va_pop')\n",
    "\n",
    "for i in range(10):\n",
    "    row = sheet.row_values(i)\n",
    "    total_pop, male_pop, Ratio = row\n",
    "    print(Ratio)\n"
   ]
  },
  {
   "cell_type": "code",
   "execution_count": null,
   "metadata": {},
   "outputs": [],
   "source": []
  }
 ],
 "metadata": {
  "kernelspec": {
   "display_name": "Python 3",
   "language": "python",
   "name": "python3"
  },
  "language_info": {
   "codemirror_mode": {
    "name": "ipython",
    "version": 3
   },
   "file_extension": ".py",
   "mimetype": "text/x-python",
   "name": "python",
   "nbconvert_exporter": "python",
   "pygments_lexer": "ipython3",
   "version": "3.6.5"
  }
 },
 "nbformat": 4,
 "nbformat_minor": 2
}
