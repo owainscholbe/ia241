{
 "cells": [
  {
   "cell_type": "markdown",
   "metadata": {},
   "source": [
    "# Lab 7"
   ]
  },
  {
   "cell_type": "markdown",
   "metadata": {},
   "source": [
    "#### 1) \n",
    "\n",
    "Company: Leidos\n",
    "Decription: Entry Level Intelligence Analyst \n",
    "[website](https://careers.leidos.com/jobs/3674591-intelligence-analyst?tm_job=R-00007987&tm_event=view&tm_company=2502&bid=32)"
   ]
  },
  {
   "cell_type": "markdown",
   "metadata": {},
   "source": [
    "#### 2)"
   ]
  },
  {
   "cell_type": "code",
   "execution_count": 1,
   "metadata": {},
   "outputs": [
    {
     "name": "stdout",
     "output_type": "stream",
     "text": [
      "- 9\n",
      "and 8\n",
      "Must 6\n",
      "in 5\n",
      "to 4\n",
      "have 4\n",
      "an 3\n",
      "for 3\n",
      "language 3\n",
      "Experience 3\n",
      "using 3\n",
      "Indeed 3\n",
      "at 2\n",
      "Arabic 2\n",
      "as 2\n",
      "data 2\n",
      "reports 2\n",
      "Qualifications 2\n",
      "be 2\n",
      "a 2\n"
     ]
    }
   ],
   "source": [
    "from collections import Counter\n",
    "\n",
    "with open('job.txt', 'r') as job:\n",
    "    job_list = job.read().split()\n",
    "    \n",
    "    count_result = Counter(job_list)\n",
    "    \n",
    "    for word, count in count_result.most_common(20):\n",
    "        print(word, count)"
   ]
  },
  {
   "cell_type": "markdown",
   "metadata": {},
   "source": [
    "#### 3)"
   ]
  },
  {
   "cell_type": "code",
   "execution_count": 4,
   "metadata": {},
   "outputs": [],
   "source": [
    "import xlwt\n",
    "from collections import Counter\n",
    "\n",
    "book = xlwt.Workbook()\n",
    "sheet = book.add_sheet('word_count')\n",
    "i = 0\n",
    "sheet.write(0, 0, 'word')\n",
    "sheet.write(0, 1, 'count')\n",
    "\n",
    "with open('job.txt', 'r') as job:\n",
    "    job_list = job.read().split()\n",
    "    count_result = Counter(job_list)\n",
    "    \n",
    "    for result in count_result.most_common(20):\n",
    "        i += 1\n",
    "        sheet.write(i, 0, result[0])\n",
    "        sheet.write(i, 1, result[1])\n",
    "            \n",
    "        \n",
    "book.save('realjobs.xls')"
   ]
  },
  {
   "cell_type": "markdown",
   "metadata": {},
   "source": [
    "#### 4)"
   ]
  },
  {
   "cell_type": "code",
   "execution_count": 8,
   "metadata": {},
   "outputs": [
    {
     "name": "stdout",
     "output_type": "stream",
     "text": [
      "word count\n",
      "- 9.0\n",
      "and 8.0\n",
      "Must 6.0\n",
      "in 5.0\n",
      "to 4.0\n",
      "have 4.0\n",
      "an 3.0\n",
      "for 3.0\n",
      "language 3.0\n",
      "Experience 3.0\n",
      "using 3.0\n",
      "Indeed 3.0\n",
      "at 2.0\n",
      "Arabic 2.0\n",
      "as 2.0\n",
      "data 2.0\n",
      "reports 2.0\n",
      "Qualifications 2.0\n",
      "be 2.0\n",
      "a 2.0\n"
     ]
    }
   ],
   "source": [
    "import xlrd\n",
    "\n",
    "book = xlrd.open_workbook('realjobs.xls')\n",
    "sheet = book.sheet_by_name('word_count')\n",
    "num_record = sheet.nrows\n",
    "\n",
    "for i in range(num_record):\n",
    "    row = sheet.row_values(i)\n",
    "    word, count = row\n",
    "    print(word, count)"
   ]
  },
  {
   "cell_type": "markdown",
   "metadata": {},
   "source": [
    "#### 5)"
   ]
  },
  {
   "cell_type": "code",
   "execution_count": null,
   "metadata": {},
   "outputs": [],
   "source": []
  }
 ],
 "metadata": {
  "kernelspec": {
   "display_name": "Python 3",
   "language": "python",
   "name": "python3"
  },
  "language_info": {
   "codemirror_mode": {
    "name": "ipython",
    "version": 3
   },
   "file_extension": ".py",
   "mimetype": "text/x-python",
   "name": "python",
   "nbconvert_exporter": "python",
   "pygments_lexer": "ipython3",
   "version": "3.6.5"
  }
 },
 "nbformat": 4,
 "nbformat_minor": 2
}
