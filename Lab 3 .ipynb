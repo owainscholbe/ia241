{
 "cells": [
  {
   "cell_type": "markdown",
   "metadata": {},
   "source": [
    "# Lab 3"
   ]
  },
  {
   "cell_type": "markdown",
   "metadata": {},
   "source": [
    "#### 1)"
   ]
  },
  {
   "cell_type": "code",
   "execution_count": 9,
   "metadata": {},
   "outputs": [
    {
     "name": "stdout",
     "output_type": "stream",
     "text": [
      "12\n",
      "43\n"
     ]
    }
   ],
   "source": [
    "num_list = [12, 32, 43, 35]\n",
    "\n",
    "num_list.sort()\n",
    "print(num_list[0])\n",
    "print(num_list[-1])"
   ]
  },
  {
   "cell_type": "markdown",
   "metadata": {},
   "source": [
    "#### 2)"
   ]
  },
  {
   "cell_type": "code",
   "execution_count": 10,
   "metadata": {},
   "outputs": [
    {
     "name": "stdout",
     "output_type": "stream",
     "text": [
      "6\n"
     ]
    }
   ],
   "source": [
    "print(len('this is my third python lab.'.split(' ')))\n"
   ]
  },
  {
   "cell_type": "markdown",
   "metadata": {},
   "source": [
    "#### 3)"
   ]
  },
  {
   "cell_type": "code",
   "execution_count": 3,
   "metadata": {},
   "outputs": [
    {
     "name": "stdout",
     "output_type": "stream",
     "text": [
      "{False, 'a', None, '123', 'b', 'False', 123, 'None', 'B'}\n"
     ]
    }
   ],
   "source": [
    "my_list = ['a', '123', '123', 'b', 'B', 'False', False, 123, None, 'None']\n",
    "\n",
    "print(set(my_list))"
   ]
  },
  {
   "cell_type": "markdown",
   "metadata": {},
   "source": [
    "There are nine unique items in the list"
   ]
  },
  {
   "cell_type": "markdown",
   "metadata": {},
   "source": [
    "#### 4)"
   ]
  },
  {
   "cell_type": "code",
   "execution_count": 55,
   "metadata": {},
   "outputs": [
    {
     "name": "stdout",
     "output_type": "stream",
     "text": [
      "3\n",
      "False\n",
      "-75.14310264\n",
      "{'favorite_count': 1138, 'lang': 'en', 'coordinates': (-81, 45), 'visited_countries': ['GR', 'HK', 'MY', 'CH']}\n"
     ]
    }
   ],
   "source": [
    "my_dict = {'favorite_count': 1138, 'lang': 'ch', \\\n",
    "           'coordinates': (-75.14310264, 40.05701649), \\\n",
    "           'visited_countries': ['GR', 'HK', 'MY']}\n",
    "\n",
    "#4.1\n",
    "my_dict['lang'] = 'en'\n",
    "\n",
    "#4.2\n",
    "print(len(my_dict['visited_countries']))\n",
    "\n",
    "#4.3\n",
    "my_dict['visited_countries'].append('CH')\n",
    "\n",
    "#4.4\n",
    "print('US' in my_dict['visited_countries'])\n",
    "\n",
    "#4.5\n",
    "print(my_dict['coordinates'][0])\n",
    "\n",
    "#4.6\n",
    "#Yes \n",
    "my_dict['coordinates'] = (-81, 45)\n",
    "\n",
    "print(my_dict)"
   ]
  },
  {
   "cell_type": "code",
   "execution_count": null,
   "metadata": {},
   "outputs": [],
   "source": []
  }
 ],
 "metadata": {
  "kernelspec": {
   "display_name": "Python 3",
   "language": "python",
   "name": "python3"
  },
  "language_info": {
   "codemirror_mode": {
    "name": "ipython",
    "version": 3
   },
   "file_extension": ".py",
   "mimetype": "text/x-python",
   "name": "python",
   "nbconvert_exporter": "python",
   "pygments_lexer": "ipython3",
   "version": "3.6.5"
  }
 },
 "nbformat": 4,
 "nbformat_minor": 2
}
