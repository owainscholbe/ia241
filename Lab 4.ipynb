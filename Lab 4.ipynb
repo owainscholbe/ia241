{
 "cells": [
  {
   "cell_type": "markdown",
   "metadata": {},
   "source": [
    "# Lab 4"
   ]
  },
  {
   "cell_type": "markdown",
   "metadata": {},
   "source": [
    "#### 1)"
   ]
  },
  {
   "cell_type": "code",
   "execution_count": 21,
   "metadata": {},
   "outputs": [
    {
     "name": "stdout",
     "output_type": "stream",
     "text": [
      "120\n"
     ]
    }
   ],
   "source": [
    "num = 1\n",
    "\n",
    "for x in range(1, 6):\n",
    "    num = num * x\n",
    "print(num)"
   ]
  },
  {
   "cell_type": "markdown",
   "metadata": {},
   "source": [
    "#### 2)"
   ]
  },
  {
   "cell_type": "code",
   "execution_count": 26,
   "metadata": {},
   "outputs": [
    {
     "name": "stdout",
     "output_type": "stream",
     "text": [
      "15\n"
     ]
    }
   ],
   "source": [
    "num = 0\n",
    "\n",
    "for x in range(1, 6):\n",
    "    num = num + x\n",
    "print(num)"
   ]
  },
  {
   "cell_type": "markdown",
   "metadata": {},
   "source": [
    "#### 3)"
   ]
  },
  {
   "cell_type": "code",
   "execution_count": 28,
   "metadata": {},
   "outputs": [
    {
     "name": "stdout",
     "output_type": "stream",
     "text": [
      "181440\n"
     ]
    }
   ],
   "source": [
    "num = 1\n",
    "\n",
    "for x in range(3, 10):\n",
    "    num = num * x\n",
    "print(num)"
   ]
  },
  {
   "cell_type": "markdown",
   "metadata": {},
   "source": [
    "#### 4)"
   ]
  },
  {
   "cell_type": "code",
   "execution_count": 32,
   "metadata": {},
   "outputs": [
    {
     "name": "stdout",
     "output_type": "stream",
     "text": [
      "6720.0\n"
     ]
    }
   ],
   "source": [
    "num = 1\n",
    "result = 1\n",
    "total = 0\n",
    "\n",
    "for x in range(1, 9):\n",
    "    num = num * x\n",
    "    \n",
    "for i in range(1, 4):\n",
    "    result = result * i \n",
    "    \n",
    "total = num / result\n",
    "\n",
    "print(total)"
   ]
  },
  {
   "cell_type": "markdown",
   "metadata": {},
   "source": [
    "#### 5)"
   ]
  },
  {
   "cell_type": "code",
   "execution_count": 19,
   "metadata": {},
   "outputs": [
    {
     "name": "stdout",
     "output_type": "stream",
     "text": [
      "0\n",
      "1\n",
      "2\n",
      "4\n",
      "5\n"
     ]
    }
   ],
   "source": [
    "for x in range (7):\n",
    "    \n",
    "    if x == 3:\n",
    "        continue\n",
    "    elif x == 6:\n",
    "        continue\n",
    "        \n",
    "    print(x)\n",
    "        \n",
    "    "
   ]
  },
  {
   "cell_type": "markdown",
   "metadata": {},
   "source": [
    "#### 6)"
   ]
  },
  {
   "cell_type": "code",
   "execution_count": 46,
   "metadata": {},
   "outputs": [
    {
     "name": "stdout",
     "output_type": "stream",
     "text": [
      "5\n"
     ]
    }
   ],
   "source": [
    "my_str = 'this is my fourth string'\n",
    "count  = 0\n",
    "\n",
    "for num in my_str.split():\n",
    "    count += 1\n",
    "    num == count\n",
    "print(count)\n",
    "    \n",
    "    "
   ]
  },
  {
   "cell_type": "markdown",
   "metadata": {},
   "source": [
    "#### 7)"
   ]
  },
  {
   "cell_type": "code",
   "execution_count": 59,
   "metadata": {},
   "outputs": [
    {
     "name": "stdout",
     "output_type": "stream",
     "text": [
      "[]\n"
     ]
    }
   ],
   "source": [
    "num_list = [12, 32, 43, 35]\n",
    "\n",
    "while num_list:\n",
    "    num_list.remove(num_list[0])\n",
    "    \n",
    "print(num_list)\n",
    "        "
   ]
  },
  {
   "cell_type": "markdown",
   "metadata": {},
   "source": [
    "#### 8)"
   ]
  },
  {
   "cell_type": "code",
   "execution_count": 68,
   "metadata": {},
   "outputs": [
    {
     "name": "stdout",
     "output_type": "stream",
     "text": [
      "['this', 'is', 'my', 'fourth', 'string']\n",
      "['is', 'my', 'fourth', 'string']\n",
      "['my', 'fourth', 'string']\n",
      "['fourth', 'string']\n",
      "['string']\n",
      "5\n"
     ]
    }
   ],
   "source": [
    "new_str = 'this is my fourth string'.split()\n",
    "count = 0\n",
    "\n",
    "while new_str:\n",
    "    print(new_str)\n",
    "    count += 1\n",
    "    new_str.remove(new_str[0])\n",
    "print(count)"
   ]
  },
  {
   "cell_type": "markdown",
   "metadata": {},
   "source": [
    "#### 9)"
   ]
  },
  {
   "cell_type": "code",
   "execution_count": 4,
   "metadata": {},
   "outputs": [
    {
     "name": "stdout",
     "output_type": "stream",
     "text": [
      "1\n",
      "2\n",
      "3\n"
     ]
    }
   ],
   "source": [
    "my_tweet = {'favorite_count': 1138, 'lang': 'ch', \\\n",
    "            'coordinates': (-75.14310264, 40.05701649),\\\n",
    "           'entities': {'hashtags': ['Preds', 'Pens', 'SingIntoSpring']}}\n",
    "count = 0\n",
    "\n",
    "\n",
    "#9.1\n",
    "for item in (my_tweet['entities']['hashtags']):\n",
    "    count += 1\n",
    "    print(count)\n",
    "    \n",
    "#9.2\n",
    "while count < len(my_tweet['entities']['hashtags']):\n",
    "    count += 1\n",
    "    print(count)"
   ]
  },
  {
   "cell_type": "markdown",
   "metadata": {},
   "source": [
    "#### 10)"
   ]
  },
  {
   "cell_type": "code",
   "execution_count": 44,
   "metadata": {},
   "outputs": [
    {
     "name": "stdout",
     "output_type": "stream",
     "text": [
      "12\n",
      "43\n"
     ]
    }
   ],
   "source": [
    "num_list = [12, 32, 43, 35]\n",
    "max_item = num_list[0]\n",
    "min_item = num_list[-1]\n",
    "\n",
    "for item in num_list:\n",
    "    "
   ]
  },
  {
   "cell_type": "code",
   "execution_count": null,
   "metadata": {},
   "outputs": [],
   "source": []
  }
 ],
 "metadata": {
  "kernelspec": {
   "display_name": "Python 3",
   "language": "python",
   "name": "python3"
  },
  "language_info": {
   "codemirror_mode": {
    "name": "ipython",
    "version": 3
   },
   "file_extension": ".py",
   "mimetype": "text/x-python",
   "name": "python",
   "nbconvert_exporter": "python",
   "pygments_lexer": "ipython3",
   "version": "3.6.5"
  }
 },
 "nbformat": 4,
 "nbformat_minor": 2
}
